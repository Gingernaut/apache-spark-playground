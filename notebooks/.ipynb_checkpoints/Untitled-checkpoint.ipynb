{
 "cells": [
  {
   "cell_type": "code",
   "execution_count": null,
   "metadata": {},
   "outputs": [
    {
     "name": "stdout",
     "output_type": "stream",
     "text": [
      "start\n"
     ]
    }
   ],
   "source": [
    "import org.apache.spark.SparkConf\n",
    "import org.apache.spark.sql.SparkSession\n",
    "\n",
    "object HelloSpark {\n",
    "    \n",
    "    def sparkConfig = {\n",
    "        new SparkConf()\n",
    "            .setAppName(\"HelloWorld\")\n",
    "            .setMaster(\"spark://spark-master:7077\")\n",
    "    }\n",
    "    \n",
    "    def main() = {   \n",
    "        println(\"start\")\n",
    "        val sc = SparkSession.builder.config(sparkConfig).getOrCreate()\n",
    "        println(\"processing data\")\n",
    "        val data = sc.read.textFile(\"/reddit_comments_2019_04.txt\")\n",
    "        println(data.count())\n",
    "        \n",
    "        sc.stop()   \n",
    "    }\n",
    "}\n",
    "\n",
    "HelloSpark.main()"
   ]
  },
  {
   "cell_type": "code",
   "execution_count": null,
   "metadata": {},
   "outputs": [],
   "source": []
  },
  {
   "cell_type": "code",
   "execution_count": null,
   "metadata": {},
   "outputs": [],
   "source": []
  },
  {
   "cell_type": "code",
   "execution_count": null,
   "metadata": {},
   "outputs": [],
   "source": []
  }
 ],
 "metadata": {
  "kernelspec": {
   "display_name": "Apache Toree - Scala",
   "language": "scala",
   "name": "apache_toree_scala"
  },
  "language_info": {
   "codemirror_mode": "text/x-scala",
   "file_extension": ".scala",
   "mimetype": "text/x-scala",
   "name": "scala",
   "pygments_lexer": "scala",
   "version": "2.11.12"
  }
 },
 "nbformat": 4,
 "nbformat_minor": 2
}
